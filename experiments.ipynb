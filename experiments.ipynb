{
 "cells": [
  {
   "cell_type": "code",
   "execution_count": 33,
   "id": "0d7e99f6",
   "metadata": {},
   "outputs": [],
   "source": [
    "from operators import *\n",
    "import cirq\n",
    "import numpy"
   ]
  },
  {
   "cell_type": "code",
   "execution_count": 86,
   "id": "129d4bf3",
   "metadata": {},
   "outputs": [
    {
     "name": "stdout",
     "output_type": "stream",
     "text": [
      "The autoreload extension is already loaded. To reload it, use:\n",
      "  %reload_ext autoreload\n"
     ]
    }
   ],
   "source": [
    "%load_ext autoreload\n",
    "%autoreload 2"
   ]
  },
  {
   "cell_type": "code",
   "execution_count": 106,
   "id": "99ff916e",
   "metadata": {},
   "outputs": [],
   "source": [
    "#Move this to a jupyter notebook later\n",
    "qudits = [cirq.LineQid(0, dimension=4)]\n",
    "\n",
    "circuit = cirq.Circuit()\n",
    "circuit.append(QuquartPlusGate().on(qudits[0]))\n",
    "circuit.append(QuquartPlusSquaredGate().on(qudits[0]))\n",
    "\n",
    "# circuit.append(QuquartPlusGate().on(qudits[0]))\n",
    "circuit.append(ZGate(2).on(qudits[0]))\n",
    "# circuit.append(ZGate().on(qudits[0]))\n",
    "# circuit.append(ZGate().on(qudits[0]))\n",
    "# circuit.append(QuquartPlusCubedGate().on(qudits[0]))"
   ]
  },
  {
   "cell_type": "code",
   "execution_count": 107,
   "id": "9b9ac4c3",
   "metadata": {},
   "outputs": [
    {
     "name": "stdout",
     "output_type": "stream",
     "text": [
      "0 (d=4): ───[+]───[++]───Z2───\n"
     ]
    }
   ],
   "source": [
    "print(circuit)\n"
   ]
  },
  {
   "cell_type": "code",
   "execution_count": 108,
   "id": "d3340c08",
   "metadata": {},
   "outputs": [
    {
     "name": "stdout",
     "output_type": "stream",
     "text": [
      "Final vector state: [ 0.+0.0000000e+00j  0.+0.0000000e+00j  0.+0.0000000e+00j\n",
      " -1.+3.6739403e-16j]\n"
     ]
    }
   ],
   "source": [
    "#Checking the phase on qudit 0\n",
    "simulate = cirq.Simulator()\n",
    "result = simulate.simulate(circuit)\n",
    "print(\"Final vector state:\", result.final_state_vector)"
   ]
  },
  {
   "cell_type": "code",
   "execution_count": 109,
   "id": "4d970c16",
   "metadata": {},
   "outputs": [
    {
     "name": "stdout",
     "output_type": "stream",
     "text": [
      "0 (d=4): ───[+]───Z2───[++]───\n"
     ]
    }
   ],
   "source": [
    "qudits = [cirq.LineQid(0, dimension=4)]\n",
    "\n",
    "circuit = cirq.Circuit()\n",
    "\n",
    "# circuit.append(QuquartPlusGate().on(qudits[0]))\n",
    "circuit.append(QuquartPlusGate().on(qudits[0]))\n",
    "circuit.append(ZGate(2).on(qudits[0]))\n",
    "circuit.append(QuquartPlusSquaredGate().on(qudits[0]))\n",
    "# circuit.append(ZGate().on(qudits[0]))\n",
    "# circuit.append(ZGate().on(qudits[0]))\n",
    "# circuit.append(QuquartPlusCubedGate().on(qudits[0]))\n",
    "print(circuit)"
   ]
  },
  {
   "cell_type": "code",
   "execution_count": 110,
   "id": "d1e914f1",
   "metadata": {},
   "outputs": [
    {
     "name": "stdout",
     "output_type": "stream",
     "text": [
      "Final vector state: [ 0.+0.0000000e+00j  0.+0.0000000e+00j  0.+0.0000000e+00j\n",
      " -1.+1.2246469e-16j]\n"
     ]
    }
   ],
   "source": [
    "simulate = cirq.Simulator()\n",
    "result = simulate.simulate(circuit)\n",
    "print(\"Final vector state:\", result.final_state_vector)"
   ]
  },
  {
   "cell_type": "code",
   "execution_count": 75,
   "id": "92d94da4",
   "metadata": {},
   "outputs": [
    {
     "name": "stdout",
     "output_type": "stream",
     "text": [
      "Final vector state after transformation: [0.+0.j 0.+0.j 1.+0.j 0.+0.j]\n"
     ]
    }
   ],
   "source": [
    "\n",
    "# Example usage:\n",
    "qudit = cirq.LineQid(0, dimension=4)\n",
    "circuit_b = cirq.Circuit()\n",
    "circuit_b.append(FlipGate(4, 0, 2).on(qudit))\n",
    "result_b = simulate.simulate(circuit_b)\n",
    "print(\"Final vector state after transformation:\", result_b.final_state_vector)"
   ]
  },
  {
   "cell_type": "code",
   "execution_count": 39,
   "id": "5775cb00",
   "metadata": {},
   "outputs": [
    {
     "name": "stdout",
     "output_type": "stream",
     "text": [
      "Final vector state after transformation: [1.+0.j 0.+0.j 0.+0.j 0.+0.j]\n"
     ]
    }
   ],
   "source": [
    "circuit_b.append(FlipGate(4,2,0).on(qudit))\n",
    "result_c = simulate.simulate(circuit_b)\n",
    "print(\"Final vector state after transformation:\", result_c.final_state_vector)"
   ]
  },
  {
   "cell_type": "code",
   "execution_count": 42,
   "id": "8634a52f",
   "metadata": {},
   "outputs": [
    {
     "name": "stdout",
     "output_type": "stream",
     "text": [
      "0 (d=4): ───X(0,2)───X(2,0)───\n"
     ]
    }
   ],
   "source": [
    "print(circuit_b)"
   ]
  },
  {
   "cell_type": "code",
   "execution_count": null,
   "id": "79d1b3c3",
   "metadata": {},
   "outputs": [],
   "source": []
  }
 ],
 "metadata": {
  "kernelspec": {
   "display_name": "cirq-env",
   "language": "python",
   "name": "python3"
  },
  "language_info": {
   "codemirror_mode": {
    "name": "ipython",
    "version": 3
   },
   "file_extension": ".py",
   "mimetype": "text/x-python",
   "name": "python",
   "nbconvert_exporter": "python",
   "pygments_lexer": "ipython3",
   "version": "3.13.5"
  }
 },
 "nbformat": 4,
 "nbformat_minor": 5
}
